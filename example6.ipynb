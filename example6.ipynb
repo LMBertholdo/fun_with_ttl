{
 "cells": [
  {
   "cell_type": "markdown",
   "metadata": {},
   "source": [
    "- https://ddosdb.org/attack-trace/80f37aac99809f9890e3d5dd9993a2a6\n",
    "- https://ddosdb.org/attack-trace/02f2204ded5031080840041c9d22d5ed\n",
    "- https://ddosdb.org/attack-trace/f2724bf2d516c91e8373f7153a595ff1_4"
   ]
  },
  {
   "cell_type": "code",
   "execution_count": 1,
   "metadata": {},
   "outputs": [],
   "source": [
    "import pandas as pd \n",
    "import numpy as np\n",
    "import glob"
   ]
  },
  {
   "cell_type": "code",
   "execution_count": 2,
   "metadata": {},
   "outputs": [],
   "source": [
    "def processing_pcap_ttl(pcap_file):\n",
    "    !tshark -n -r $pcap_file -E separator=\\;  -E header=y -T fields -e ip.src -e ip.ttl  > pcap.txt\n",
    "    df = pd.read_csv('pcap.txt', error_bad_lines=False, sep=';')\n",
    "    \n",
    "    try:\n",
    "        df['ip.src'] = df['ip.src'].apply(lambda x: x.split(',')[0])\n",
    "    except:\n",
    "        pass\n",
    "    \n",
    "    try:\n",
    "        df['ip.ttl'] = df['ip.ttl'].apply(lambda x: int(x.split(',')[0]))\n",
    "    except:\n",
    "        pass\n",
    "    \n",
    "    df_summary = df.groupby(['ip.src'])['ip.ttl'].agg([np.ptp]).reset_index()\n",
    "    summary = df_summary['ptp'].value_counts()\n",
    "    return summary"
   ]
  },
  {
   "cell_type": "markdown",
   "metadata": {},
   "source": [
    "## Reading all files"
   ]
  },
  {
   "cell_type": "code",
   "execution_count": 3,
   "metadata": {},
   "outputs": [
    {
     "data": {
      "text/plain": [
       "['../02f2204ded5031080840041c9d22d5ed.pcap',\n",
       " '../f2724bf2d516c91e8373f7153a595ff1_4.pcap',\n",
       " '../80f37aac99809f9890e3d5dd9993a2a6.pcap']"
      ]
     },
     "execution_count": 3,
     "metadata": {},
     "output_type": "execute_result"
    }
   ],
   "source": [
    "pcap_files = glob.glob(\"../*.pcap\")\n",
    "pcap_files"
   ]
  },
  {
   "cell_type": "markdown",
   "metadata": {},
   "source": [
    "## LOOP TO PROCESS AND CONCAT EVERYTHING"
   ]
  },
  {
   "cell_type": "code",
   "execution_count": 4,
   "metadata": {},
   "outputs": [
    {
     "data": {
      "text/html": [
       "<div>\n",
       "<style scoped>\n",
       "    .dataframe tbody tr th:only-of-type {\n",
       "        vertical-align: middle;\n",
       "    }\n",
       "\n",
       "    .dataframe tbody tr th {\n",
       "        vertical-align: top;\n",
       "    }\n",
       "\n",
       "    .dataframe thead th {\n",
       "        text-align: right;\n",
       "    }\n",
       "</style>\n",
       "<table border=\"1\" class=\"dataframe\">\n",
       "  <thead>\n",
       "    <tr style=\"text-align: right;\">\n",
       "      <th></th>\n",
       "      <th>0</th>\n",
       "      <th>1</th>\n",
       "      <th>2</th>\n",
       "      <th>3</th>\n",
       "      <th>4</th>\n",
       "      <th>5</th>\n",
       "      <th>8</th>\n",
       "      <th>13</th>\n",
       "      <th>63</th>\n",
       "      <th>192</th>\n",
       "      <th>total_ips</th>\n",
       "    </tr>\n",
       "    <tr>\n",
       "      <th>index</th>\n",
       "      <th></th>\n",
       "      <th></th>\n",
       "      <th></th>\n",
       "      <th></th>\n",
       "      <th></th>\n",
       "      <th></th>\n",
       "      <th></th>\n",
       "      <th></th>\n",
       "      <th></th>\n",
       "      <th></th>\n",
       "      <th></th>\n",
       "    </tr>\n",
       "  </thead>\n",
       "  <tbody>\n",
       "    <tr>\n",
       "      <th>80f37aac99809f9890e3d5dd9993a2a6</th>\n",
       "      <td>22</td>\n",
       "      <td>9</td>\n",
       "      <td>0.0</td>\n",
       "      <td>0.0</td>\n",
       "      <td>0.0</td>\n",
       "      <td>0.0</td>\n",
       "      <td>1.0</td>\n",
       "      <td>0.0</td>\n",
       "      <td>0.0</td>\n",
       "      <td>0.0</td>\n",
       "      <td>32.0</td>\n",
       "    </tr>\n",
       "    <tr>\n",
       "      <th>f2724bf2d516c91e8373f7153a595ff1_4</th>\n",
       "      <td>1043</td>\n",
       "      <td>84</td>\n",
       "      <td>16.0</td>\n",
       "      <td>24.0</td>\n",
       "      <td>66.0</td>\n",
       "      <td>0.0</td>\n",
       "      <td>0.0</td>\n",
       "      <td>1.0</td>\n",
       "      <td>0.0</td>\n",
       "      <td>0.0</td>\n",
       "      <td>1234.0</td>\n",
       "    </tr>\n",
       "    <tr>\n",
       "      <th>02f2204ded5031080840041c9d22d5ed</th>\n",
       "      <td>9098</td>\n",
       "      <td>11</td>\n",
       "      <td>2.0</td>\n",
       "      <td>1.0</td>\n",
       "      <td>1.0</td>\n",
       "      <td>1.0</td>\n",
       "      <td>0.0</td>\n",
       "      <td>0.0</td>\n",
       "      <td>1.0</td>\n",
       "      <td>1.0</td>\n",
       "      <td>9116.0</td>\n",
       "    </tr>\n",
       "  </tbody>\n",
       "</table>\n",
       "</div>"
      ],
      "text/plain": [
       "                                       0   1     2     3     4    5    8   13  \\\n",
       "index                                                                           \n",
       "80f37aac99809f9890e3d5dd9993a2a6      22   9   0.0   0.0   0.0  0.0  1.0  0.0   \n",
       "f2724bf2d516c91e8373f7153a595ff1_4  1043  84  16.0  24.0  66.0  0.0  0.0  1.0   \n",
       "02f2204ded5031080840041c9d22d5ed    9098  11   2.0   1.0   1.0  1.0  0.0  0.0   \n",
       "\n",
       "                                     63  192  total_ips  \n",
       "index                                                    \n",
       "80f37aac99809f9890e3d5dd9993a2a6    0.0  0.0       32.0  \n",
       "f2724bf2d516c91e8373f7153a595ff1_4  0.0  0.0     1234.0  \n",
       "02f2204ded5031080840041c9d22d5ed    1.0  1.0     9116.0  "
      ]
     },
     "execution_count": 4,
     "metadata": {},
     "output_type": "execute_result"
    }
   ],
   "source": [
    "df = pd.DataFrame()\n",
    "\n",
    "for pcap_file in pcap_files:\n",
    "    summary = processing_pcap_ttl(pcap_file).to_frame().T.reset_index()\n",
    "    summary.at[0, 'index'] = pcap_file.replace('../','').replace('.pcap','')\n",
    "    df = pd.concat([summary,df], sort=False)\n",
    "\n",
    "df = df.fillna(0).set_index('index')\n",
    "df = df.reindex(columns=sorted(df.columns))\n",
    "df['total_ips'] = df.sum(axis=1)\n",
    "df"
   ]
  },
  {
   "cell_type": "code",
   "execution_count": 5,
   "metadata": {},
   "outputs": [
    {
     "data": {
      "text/html": [
       "<div>\n",
       "<style scoped>\n",
       "    .dataframe tbody tr th:only-of-type {\n",
       "        vertical-align: middle;\n",
       "    }\n",
       "\n",
       "    .dataframe tbody tr th {\n",
       "        vertical-align: top;\n",
       "    }\n",
       "\n",
       "    .dataframe thead th {\n",
       "        text-align: right;\n",
       "    }\n",
       "</style>\n",
       "<table border=\"1\" class=\"dataframe\">\n",
       "  <thead>\n",
       "    <tr style=\"text-align: right;\">\n",
       "      <th></th>\n",
       "      <th>0</th>\n",
       "      <th>1</th>\n",
       "      <th>2</th>\n",
       "      <th>3</th>\n",
       "      <th>4</th>\n",
       "      <th>5</th>\n",
       "      <th>8</th>\n",
       "      <th>13</th>\n",
       "      <th>63</th>\n",
       "      <th>192</th>\n",
       "      <th>total_ips</th>\n",
       "    </tr>\n",
       "    <tr>\n",
       "      <th>index</th>\n",
       "      <th></th>\n",
       "      <th></th>\n",
       "      <th></th>\n",
       "      <th></th>\n",
       "      <th></th>\n",
       "      <th></th>\n",
       "      <th></th>\n",
       "      <th></th>\n",
       "      <th></th>\n",
       "      <th></th>\n",
       "      <th></th>\n",
       "    </tr>\n",
       "  </thead>\n",
       "  <tbody>\n",
       "    <tr>\n",
       "      <th>80f37aac99809f9890e3d5dd9993a2a6</th>\n",
       "      <td>68.75%</td>\n",
       "      <td>28.12%</td>\n",
       "      <td>0.00%</td>\n",
       "      <td>0.00%</td>\n",
       "      <td>0.00%</td>\n",
       "      <td>0.00%</td>\n",
       "      <td>3.12%</td>\n",
       "      <td>0.00%</td>\n",
       "      <td>0.00%</td>\n",
       "      <td>0.00%</td>\n",
       "      <td>100.00%</td>\n",
       "    </tr>\n",
       "    <tr>\n",
       "      <th>f2724bf2d516c91e8373f7153a595ff1_4</th>\n",
       "      <td>84.52%</td>\n",
       "      <td>6.81%</td>\n",
       "      <td>1.30%</td>\n",
       "      <td>1.94%</td>\n",
       "      <td>5.35%</td>\n",
       "      <td>0.00%</td>\n",
       "      <td>0.00%</td>\n",
       "      <td>0.08%</td>\n",
       "      <td>0.00%</td>\n",
       "      <td>0.00%</td>\n",
       "      <td>100.00%</td>\n",
       "    </tr>\n",
       "    <tr>\n",
       "      <th>02f2204ded5031080840041c9d22d5ed</th>\n",
       "      <td>99.80%</td>\n",
       "      <td>0.12%</td>\n",
       "      <td>0.02%</td>\n",
       "      <td>0.01%</td>\n",
       "      <td>0.01%</td>\n",
       "      <td>0.01%</td>\n",
       "      <td>0.00%</td>\n",
       "      <td>0.00%</td>\n",
       "      <td>0.01%</td>\n",
       "      <td>0.01%</td>\n",
       "      <td>100.00%</td>\n",
       "    </tr>\n",
       "  </tbody>\n",
       "</table>\n",
       "</div>"
      ],
      "text/plain": [
       "                                        0      1     2     3     4     5  \\\n",
       "index                                                                      \n",
       "80f37aac99809f9890e3d5dd9993a2a6   68.75% 28.12% 0.00% 0.00% 0.00% 0.00%   \n",
       "f2724bf2d516c91e8373f7153a595ff1_4 84.52%  6.81% 1.30% 1.94% 5.35% 0.00%   \n",
       "02f2204ded5031080840041c9d22d5ed   99.80%  0.12% 0.02% 0.01% 0.01% 0.01%   \n",
       "\n",
       "                                       8    13    63   192  total_ips  \n",
       "index                                                                  \n",
       "80f37aac99809f9890e3d5dd9993a2a6   3.12% 0.00% 0.00% 0.00%    100.00%  \n",
       "f2724bf2d516c91e8373f7153a595ff1_4 0.00% 0.08% 0.00% 0.00%    100.00%  \n",
       "02f2204ded5031080840041c9d22d5ed   0.00% 0.00% 0.01% 0.01%    100.00%  "
      ]
     },
     "execution_count": 5,
     "metadata": {},
     "output_type": "execute_result"
    }
   ],
   "source": [
    "pd.options.display.float_format = '{:.2f}%'.format\n",
    "df_percent = df.div(df['total_ips'], axis=0)*100\n",
    "df_percent"
   ]
  }
 ],
 "metadata": {
  "kernelspec": {
   "display_name": "Python 3",
   "language": "python",
   "name": "python3"
  },
  "language_info": {
   "codemirror_mode": {
    "name": "ipython",
    "version": 3
   },
   "file_extension": ".py",
   "mimetype": "text/x-python",
   "name": "python",
   "nbconvert_exporter": "python",
   "pygments_lexer": "ipython3",
   "version": "3.7.0"
  }
 },
 "nbformat": 4,
 "nbformat_minor": 2
}
